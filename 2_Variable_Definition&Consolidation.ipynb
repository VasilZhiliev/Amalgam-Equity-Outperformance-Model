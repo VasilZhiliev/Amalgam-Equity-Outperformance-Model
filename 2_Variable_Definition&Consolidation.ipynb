{
 "cells": [
  {
   "cell_type": "code",
   "execution_count": 1,
   "id": "c7e6a036-0cda-4ffb-8b90-3ddb861db506",
   "metadata": {},
   "outputs": [
    {
     "data": {
      "text/plain": [
       "<module 'utils' from 'D:\\\\Master Thesis\\\\Code\\\\codes - clean\\\\utils.py'>"
      ]
     },
     "execution_count": 1,
     "metadata": {},
     "output_type": "execute_result"
    }
   ],
   "source": [
    "import pandas as pd\n",
    "import numpy as np\n",
    "import matplotlib.pyplot as plt\n",
    "import seaborn as sns\n",
    "from scipy.stats import ttest_rel\n",
    "import utils\n",
    "import gc\n",
    "import importlib\n",
    "importlib.reload(utils)"
   ]
  },
  {
   "cell_type": "code",
   "execution_count": 2,
   "id": "1c4db8cd-3d81-46d4-ba6c-ab6ba85e56de",
   "metadata": {},
   "outputs": [
    {
     "data": {
      "text/plain": [
       "52"
      ]
     },
     "execution_count": 2,
     "metadata": {},
     "output_type": "execute_result"
    }
   ],
   "source": [
    "gc.collect()"
   ]
  },
  {
   "cell_type": "code",
   "execution_count": 3,
   "id": "7dee00b8-f4a1-40dd-9ce4-66ead395dc16",
   "metadata": {},
   "outputs": [],
   "source": [
    "df = pd.read_csv('data/data_merged_fluidshift.csv')"
   ]
  },
  {
   "cell_type": "code",
   "execution_count": 4,
   "id": "d0529c5d-61ad-4024-a867-0eb295574ae9",
   "metadata": {},
   "outputs": [
    {
     "data": {
      "text/plain": [
       "Index(['PERMNO', 'y', 'qtr', 'GIND', 'SIC', 'RET', 'vwretd', 'SALES', 'COGS',\n",
       "       'GP', 'OPEX', 'EBITDA', 'D&A', 'EBIT', 'NI', 'INVENTORY', 'CA', 'CL',\n",
       "       'COA', 'COL', 'TA', 'NOA', 'PSTK', 'BE', 'LT', 'STDEBT', 'LTDEBT',\n",
       "       'EQIS', 'MI', 'NWC', 'NCOA', 'COWC', 'CASHST', 'NCOFA', 'NCOL',\n",
       "       'NETDEBT', 'NNCOA', 'OACC', 'OCF', 'MC', 'resff3_12_1', 'mom_12_1',\n",
       "       'zero_trades_252', 'zero_trades_21', 'turnover_126d', 'ivol_ff3_21d',\n",
       "       'rmax5_rvol_21d', 'firm_age', 'seas_6_10an', 'seas_6_10na',\n",
       "       'seas_11_15na', 'seas_20_16an'],\n",
       "      dtype='object')"
      ]
     },
     "execution_count": 4,
     "metadata": {},
     "output_type": "execute_result"
    }
   ],
   "source": [
    "df.columns"
   ]
  },
  {
   "cell_type": "markdown",
   "id": "7e98c96b-23d1-432b-b1e9-4d3b25c7fcaf",
   "metadata": {},
   "source": [
    "### Defining the Variables"
   ]
  },
  {
   "cell_type": "code",
   "execution_count": 10,
   "id": "7a3000db-30ae-4868-871e-de74708d74f3",
   "metadata": {},
   "outputs": [
    {
     "name": "stderr",
     "output_type": "stream",
     "text": [
      "D:\\Anaconda\\Lib\\site-packages\\pandas\\core\\arraylike.py:399: RuntimeWarning: invalid value encountered in log\n",
      "  result = getattr(ufunc, method)(*inputs, **kwargs)\n"
     ]
    }
   ],
   "source": [
    "# Lagged NI for CHIN and INTWO\n",
    "df['NI_lag'] = df.groupby('PERMNO')['NI'].shift(1)\n",
    "\n",
    "# TLTA: Total Liabilities to Total Assets\n",
    "df['TLTA'] = df['LT'] / df['TA']\n",
    "\n",
    "# WCTA: Working Capital to Total Assets\n",
    "df['WCTA'] = (df['CA'] - df['CL']) / df['TA']\n",
    "\n",
    "# CLCA: Current Liabilities to Current Assets\n",
    "df['CLCA'] = df['CL'] / df['CA']\n",
    "\n",
    "# NITA: Net Income to Total Assets\n",
    "df['NITA'] = df['NI'] / df['TA']\n",
    "\n",
    "# FUTL: Funds from Operations to Total Liabilities (proxied as OCF / LT)\n",
    "df['FUTL'] = df['OCF'] / df['LT']\n",
    "\n",
    "# OENEG: 1 if total liabilities > total assets\n",
    "df['OENEG'] = (df['LT'] > df['TA']).astype(int)\n",
    "\n",
    "# INTWO: Net income negative in last two years\n",
    "df['INTWO'] = ((df['NI'] < 0) & (df['NI_lag'] < 0)).astype(int)\n",
    "\n",
    "# CHIN: Change in NI / (|NI| + |NI_lag|)\n",
    "denom = df['NI'].abs() + df['NI_lag'].abs()\n",
    "df['CHIN'] = (df['NI'] - df['NI_lag']) / denom.replace(0, np.nan)\n",
    "\n",
    "# Avoid infinite values\n",
    "df['CHIN'] = df['CHIN'].replace([np.inf, -np.inf], np.nan)\n",
    "\n",
    "# O-Score Calculation\n",
    "df['o_score'] = (\n",
    "    -1.32\n",
    "    - 0.407 * np.log(df['TA'].replace(0, np.nan))\n",
    "    + 6.03 * df['TLTA']\n",
    "    - 1.43 * df['WCTA']\n",
    "    + 0.0757 * df['CLCA']\n",
    "    - 1.72 * df['OENEG']           \n",
    "    - 2.37 * df['NITA']\n",
    "    - 1.83 * df['FUTL']\n",
    "    + 0.285 * df['INTWO']\n",
    "    - 0.521 * df['CHIN']\n",
    ")"
   ]
  },
  {
   "cell_type": "code",
   "execution_count": 12,
   "id": "4a48d3f2-4013-4da6-8834-b35fe6024205",
   "metadata": {},
   "outputs": [
    {
     "data": {
      "text/plain": [
       "9"
      ]
     },
     "execution_count": 12,
     "metadata": {},
     "output_type": "execute_result"
    }
   ],
   "source": [
    "# Change in NWC\n",
    "df['NWC_lag'] = df.groupby('PERMNO')['NWC'].shift(1)\n",
    "df['delta_NWC'] = df['NWC'] - df['NWC_lag']\n",
    "df['cop_at'] = (df['EBITDA'] - df['delta_NWC']) / df['TA']\n",
    "\n",
    "# Change in NOA over lagged total assets\n",
    "df['NOA_lag'] = df.groupby('PERMNO')['NOA'].shift(1)\n",
    "df['TA_lag'] = df.groupby('PERMNO')['TA'].shift(1)\n",
    "df['noa_gr1a'] = (df['NOA'] - df['NOA_lag']) / df['TA_lag']\n",
    "\n",
    "# Sales growth\n",
    "df['SALES_lag'] = df.groupby('PERMNO')['SALES'].shift(1)\n",
    "df['saleq_gr1'] = (df['SALES'] - df['SALES_lag']) / df['SALES_lag'].abs()\n",
    "\n",
    "# Debt to market cap\n",
    "df['debt_me'] = (df['LT'] + df['STDEBT']) / df['MC']\n",
    "\n",
    "# change in current operating working capital\n",
    "df['cowc_gr1a'] = (df['COWC'] - df.groupby('PERMNO')['COWC'].shift(1)) / df.groupby('PERMNO')['TA'].shift(1)\n",
    "\n",
    "# Change in non-current operating assets over lagged total assets\n",
    "df['NNCOA_lag'] = df.groupby('PERMNO')['NNCOA'].shift(1)\n",
    "df['nncoa_gr1a'] = (df['NNCOA'] - df['NNCOA_lag']) / df['TA_lag']\n",
    "\n",
    "# Operating cash flow to market cap\n",
    "df['ocf_me'] = df['OCF'] / df['MC']\n",
    "\n",
    "# Quarterly Net Income to Total Assets\n",
    "df['niq_at'] = df['NI'] / df['TA']\n",
    "\n",
    "# Compute rolling autocorrelation of NI with lag 1\n",
    "m = 8\n",
    "df['ni_arl'] = df.groupby('PERMNO')['NI'].transform(\n",
    "    lambda x: x.rolling(m, min_periods=m).apply(lambda y: y.autocorr(lag=1), raw=False)\n",
    ")\n",
    "\n",
    "# Earnings to Price Ratio\n",
    "df['ni_me'] = df['NI'] / df['MC']\n",
    "\n",
    "# Sales Change minus Inventory Change\n",
    "df['SALES_lag'] = df.groupby('PERMNO')['SALES'].shift(1)\n",
    "df['INVENTORY_lag'] = df.groupby('PERMNO')['INVENTORY'].shift(1)\n",
    "df['dsale_dinv'] = ((df['SALES'] - df['SALES_lag']) / df['SALES_lag'].abs() - (df['INVENTORY'] - df['INVENTORY_lag']) / df['INVENTORY_lag'].abs())\n",
    "\n",
    "# Return on Equity\n",
    "df['ni_be'] = df['NI'] / df['BE']\n",
    "\n",
    "# NOA to AT\n",
    "df['noa_at'] = df['NOA'] / df['TA']\n",
    "\n",
    "# Compute change in net financial assets: cash + short-term investments - total debt-1\n",
    "df['TA_lag'] = df.groupby('PERMNO')['TA'].shift(1)\n",
    "df['nfna'] = df['CASHST'].fillna(0) - (df['LTDEBT'].fillna(0) + df['STDEBT'].fillna(0))\n",
    "df['nfna_grla'] = df['nfna'] / df['TA_lag']\n",
    "\n",
    "# Total Assets divided by Market Cap\n",
    "df['at_me'] = df['TA'] / df['MC']\n",
    "gc.collect()"
   ]
  },
  {
   "cell_type": "code",
   "execution_count": 13,
   "id": "3e33d4ff-1021-4277-8f12-d0559d3fd503",
   "metadata": {},
   "outputs": [],
   "source": [
    "df_mc_filtered = df[df['MC'] >= 50].copy()\n",
    "\n",
    "cols_to_keep = [\n",
    "    'PERMNO', 'y', 'qtr', 'GIND', 'SIC', 'RET', 'vwretd', 'MC',\n",
    "    'cop_at', 'noa_gr1a', 'saleq_gr1', 'resff3_12_1', 'seas_6_10an', 'debt_me',\n",
    "    'seas_6_10na', 'zero_trades_252', 'zero_trades_21', 'cowc_gr1a', 'nncoa_gr1a', 'ocf_me',\n",
    "    'turnover_126d', 'rmax5_rvol_21d', 'seas_11_15na', 'o_score', 'niq_at',\n",
    "    'seas_20_16an', 'ni_arl', 'ivol_ff3_21d', 'ni_me', 'dsale_dinv', 'ni_be',\n",
    "    'noa_at', 'firm_age', 'mom_12_1', 'nfna_grla', 'at_me'\n",
    "]\n",
    "\n",
    "data_merged_clean = df_mc_filtered[cols_to_keep].copy()\n",
    "data_merged_clean.to_csv(\"data_merged_fluidshift.csv\", index=False)"
   ]
  },
  {
   "cell_type": "code",
   "execution_count": 14,
   "id": "7b80bb44-c61f-42d7-a648-824d1cc319a2",
   "metadata": {},
   "outputs": [],
   "source": [
    "df = pd.read_csv(\"data_merged_fluidshift.csv\")\n",
    "\n",
    "# Create quarter label\n",
    "df['quarter_label'] = df['y'].astype(str) + 'Q' + df['qtr'].astype(str)\n",
    "\n",
    "# Choose industry grouping\n",
    "industry_group = 'GIND' \n",
    "\n",
    "# List of variables to rank\n",
    "rank_vars = [\n",
    "    'cop_at', 'noa_gr1a', 'saleq_gr1', 'resff3_12_1', 'seas_6_10an', 'debt_me',\n",
    "    'seas_6_10na', 'zero_trades_252', 'zero_trades_21', 'cowc_gr1a', 'nncoa_gr1a', 'ocf_me',\n",
    "    'turnover_126d', 'rmax5_rvol_21d', 'seas_11_15na', 'o_score', 'niq_at',\n",
    "    'seas_20_16an', 'ni_arl', 'ivol_ff3_21d', 'ni_me', 'dsale_dinv', 'ni_be',\n",
    "    'noa_at', 'firm_age', 'mom_12_1', 'nfna_grla', 'at_me'\n",
    "]\n",
    "\n",
    "# Compute percentile ranks\n",
    "for var in rank_vars:\n",
    "    df[f'{var}_pct'] = (\n",
    "        df.groupby([industry_group, 'quarter_label'])[var]\n",
    "        .transform(lambda x: x.rank(pct=True))\n",
    "    )\n",
    "\n",
    "# Final columns: identifiers + only _pct variables\n",
    "id_cols = ['PERMNO', 'y', 'qtr', 'GIND', 'SIC', 'RET', 'vwretd', 'MC']\n",
    "pct_cols = [f'{var}_pct' for var in rank_vars]\n",
    "data_merged_pct = df[id_cols + pct_cols].copy()\n",
    "\n",
    "# Save to CSV\n",
    "data_merged_pct.to_csv(\"data_merged_pctfluidshiftpct.csv\", index=False)"
   ]
  },
  {
   "cell_type": "code",
   "execution_count": null,
   "id": "efbf0427-5c2c-41e7-b5da-dbf03efb7210",
   "metadata": {},
   "outputs": [],
   "source": []
  },
  {
   "cell_type": "code",
   "execution_count": null,
   "id": "0334f500-39e2-4176-89cf-4d87cac5b282",
   "metadata": {},
   "outputs": [],
   "source": []
  },
  {
   "cell_type": "code",
   "execution_count": null,
   "id": "b5045f71-6de4-404a-9833-b0ec0dcbc2d7",
   "metadata": {},
   "outputs": [],
   "source": []
  }
 ],
 "metadata": {
  "kernelspec": {
   "display_name": "Python 3 (ipykernel)",
   "language": "python",
   "name": "python3"
  },
  "language_info": {
   "codemirror_mode": {
    "name": "ipython",
    "version": 3
   },
   "file_extension": ".py",
   "mimetype": "text/x-python",
   "name": "python",
   "nbconvert_exporter": "python",
   "pygments_lexer": "ipython3",
   "version": "3.12.7"
  }
 },
 "nbformat": 4,
 "nbformat_minor": 5
}
